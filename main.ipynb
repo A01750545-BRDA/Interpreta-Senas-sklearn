{
 "cells": [
  {
   "cell_type": "code",
   "execution_count": 1,
   "id": "11071dd6-145c-4ce7-9e26-644e15df2113",
   "metadata": {},
   "outputs": [],
   "source": [
    "import pickle\n",
    "\n",
    "import cv2 as cv\n",
    "import mediapipe as mp\n",
    "import numpy as np"
   ]
  },
  {
   "cell_type": "code",
   "execution_count": 2,
   "id": "44de8c09-9fc4-4f8a-8885-f38ac8a1f151",
   "metadata": {},
   "outputs": [],
   "source": [
    "model_dict = pickle.load(open('./model_abc_LSM.p', 'rb'))\n",
    "model = model_dict['model']"
   ]
  },
  {
   "cell_type": "code",
   "execution_count": 3,
   "id": "a3c51439-e280-443e-a2d9-658a9002ef93",
   "metadata": {},
   "outputs": [
    {
     "name": "stderr",
     "output_type": "stream",
     "text": [
      "WARNING: All log messages before absl::InitializeLog() is called are written to STDERR\n",
      "I0000 00:00:1707360964.221833       1 gl_context.cc:344] GL version: 2.1 (2.1 INTEL-18.8.4), renderer: Intel(R) HD Graphics 6000\n"
     ]
    }
   ],
   "source": [
    "mp_hands = mp.solutions.hands\n",
    "mp_drawing = mp.solutions.drawing_utils\n",
    "mp_drawing_styles = mp.solutions.drawing_styles\n",
    "\n",
    "hands = mp_hands.Hands(static_image_mode=True, min_detection_confidence=0.3)"
   ]
  },
  {
   "cell_type": "code",
   "execution_count": 8,
   "id": "d201f662-87a8-4ea4-913d-630fe5934933",
   "metadata": {},
   "outputs": [],
   "source": [
    "class_rgb = (('a', (255, 0, 0)),\n",
    "             ('b', (235, 235, 0)),\n",
    "             ('c', (0, 200, 255)),\n",
    "             ('d', (170, 0, 255)),\n",
    "             ('e', (255, 127, 0)),\n",
    "             ('f', (191, 255, 0)),\n",
    "             ('g', (0, 149, 255)),\n",
    "             ('h', (255, 0, 170)),\n",
    "             ('i', (255, 212, 0)),\n",
    "             ('l', (106, 255, 0)),\n",
    "             ('m', (0, 64, 255)),\n",
    "             ('n', (237, 185, 185)),\n",
    "             ('o', (185, 215, 237)),\n",
    "             ('p', (200, 200, 185)),\n",
    "             ('r', (220, 185, 237)),\n",
    "             ('s', (165, 217, 204)),\n",
    "             ('t', (143, 35, 35)),\n",
    "             ('u', (35, 98, 143)),\n",
    "             ('v', (143, 106, 35)),\n",
    "             ('w', (107, 35, 143)),\n",
    "             ('y', (79, 143, 35)))"
   ]
  },
  {
   "cell_type": "code",
   "execution_count": 27,
   "id": "93ebd071-62ab-4249-9242-0d0df76cb9c6",
   "metadata": {},
   "outputs": [],
   "source": [
    "cap = cv.VideoCapture(0)\n",
    "\n",
    "while True:\n",
    "    \n",
    "    ret, frame = cap.read()\n",
    "\n",
    "    H, W, _ = frame.shape\n",
    "\n",
    "    frame_rgb = cv.cvtColor(frame, cv.COLOR_BGR2RGB)\n",
    "\n",
    "    results = hands.process(frame_rgb)\n",
    "    if results.multi_hand_landmarks:\n",
    "        for hand_landmarks in results.multi_hand_landmarks:\n",
    "            mp_drawing.draw_landmarks(\n",
    "                frame,                                                    # image to draw\n",
    "                hand_landmarks,                                           # model output\n",
    "                mp_hands.HAND_CONNECTIONS)                                # Draw connections (default None)      connections\n",
    "                #mp_drawing_styles.get_default_hand_landmarks_style()     # Colour points (default RED)          landmark_drawing_spec\n",
    "                #mp_drawing_styles.get_default_hand_connections_style()   # Colour connections (default WHITE)   connection_drawing_spec\n",
    "                #False                                                    # Remove points                        is_drawing_landmarks\n",
    "\n",
    "        for hand_landmarks in results.multi_hand_landmarks:\n",
    "            \n",
    "            data_aux = []\n",
    "            x_ = []\n",
    "            y_ = []\n",
    "            \n",
    "            for i in range(len(hand_landmarks.landmark)):\n",
    "                x = hand_landmarks.landmark[i].x\n",
    "                y = hand_landmarks.landmark[i].y\n",
    "\n",
    "                x_.append(x)\n",
    "                y_.append(y)\n",
    "\n",
    "            for i in range(len(hand_landmarks.landmark)):\n",
    "                x = hand_landmarks.landmark[i].x\n",
    "                y = hand_landmarks.landmark[i].y\n",
    "                data_aux.append(x - min(x_))\n",
    "                data_aux.append(y - min(y_))\n",
    "\n",
    "            x1 = int(min(x_) * W) - 20\n",
    "            y1 = int(min(y_) * H) - 20\n",
    "    \n",
    "            x2 = int(max(x_) * W) - 20\n",
    "            y2 = int(max(y_) * H) - 20\n",
    "            \n",
    "            probabilities = model.predict_proba([np.asarray(data_aux)]) # Probabilites of each class\n",
    "            prediction = np.argmax(probabilities)                       # Index of most probable class\n",
    "            \n",
    "            character, color = class_rgb[prediction]\n",
    "            prediction_proba = str(np.max(probabilities))\n",
    "\n",
    "            cv.rectangle(frame, (x1, y1), (x1 + 125, y1 - 45), color, -1)\n",
    "            cv.rectangle(frame, (x1, y1), (x2, y2), color, 4)\n",
    "            \n",
    "            cv.putText(frame, character, (x1 + 10, y1 - 10), cv.FONT_HERSHEY_COMPLEX, 1.2, (255, 255, 255), 1, cv.LINE_AA)\n",
    "            cv.putText(frame, prediction_proba, (x1 + 50, y1 - 10), cv.FONT_HERSHEY_COMPLEX, 1, (255, 255, 255), 1, cv.LINE_AA)\n",
    "\n",
    "    cv.imshow('frame', frame)\n",
    "    if cv.waitKey(1) == ord('q'):\n",
    "        break\n",
    "\n",
    "cap.release()\n",
    "cv.destroyAllWindows()"
   ]
  }
 ],
 "metadata": {
  "kernelspec": {
   "display_name": "Usr Python3",
   "language": "python",
   "name": "myenv"
  },
  "language_info": {
   "codemirror_mode": {
    "name": "ipython",
    "version": 3
   },
   "file_extension": ".py",
   "mimetype": "text/x-python",
   "name": "python",
   "nbconvert_exporter": "python",
   "pygments_lexer": "ipython3",
   "version": "3.11.7"
  }
 },
 "nbformat": 4,
 "nbformat_minor": 5
}
