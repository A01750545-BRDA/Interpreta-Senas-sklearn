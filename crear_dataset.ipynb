{
 "cells": [
  {
   "cell_type": "markdown",
   "id": "80f9f9b0",
   "metadata": {},
   "source": [
    "Dependencias"
   ]
  },
  {
   "cell_type": "code",
   "execution_count": null,
   "id": "e9f76da8-8468-44b4-a774-aea3dae80c50",
   "metadata": {},
   "outputs": [],
   "source": [
    "!pip install mediapipe"
   ]
  },
  {
   "cell_type": "code",
   "execution_count": null,
   "id": "c26f029d-27da-4688-afdc-f77e6449e74b",
   "metadata": {},
   "outputs": [],
   "source": [
    "import cv2 as cv\n",
    "import os\n",
    "import pickle\n",
    "import time\n",
    "import uuid\n",
    "import mediapipe as mp"
   ]
  },
  {
   "cell_type": "markdown",
   "id": "be6c583b",
   "metadata": {},
   "source": [
    "Definir clases e imagenes"
   ]
  },
  {
   "cell_type": "code",
   "execution_count": null,
   "id": "0f9b3558-d27e-4ca3-93aa-3cfb53d40baa",
   "metadata": {},
   "outputs": [],
   "source": [
    "IMAGENES_PATH = \"imagenes/recopiladas\""
   ]
  },
  {
   "cell_type": "code",
   "execution_count": null,
   "id": "ebb1ccdc-3da8-4ae7-84b3-5bfd5b5e5edb",
   "metadata": {},
   "outputs": [],
   "source": [
    "clases = [\"a\", \"b\", \"c\", \"d\", \"e\", \"f\", \"g\", \"h\", \"i\", \"l\", \"m\", \"n\", \"o\", \"p\", \"r\", \"s\", \"t\", \"u\", \"v\", \"w\", \"y\"]\n",
    "num_imgs = 15"
   ]
  },
  {
   "cell_type": "markdown",
   "id": "40c605a7",
   "metadata": {},
   "source": [
    "Crear imagenes para base de datos"
   ]
  },
  {
   "cell_type": "code",
   "execution_count": null,
   "id": "82d90f17-64a2-4e29-9325-3c2fd626cf49",
   "metadata": {},
   "outputs": [],
   "source": [
    "for clase in clases:\n",
    "    os.system(f\"mkdir -p {IMAGENES_PATH}/{clase}\")\n",
    "    cap = cv.VideoCapture(0)\n",
    "    \n",
    "    if not cap.isOpened():\n",
    "        print(\"-- Camara no se pudo abrir --\")\n",
    "        break\n",
    "    \n",
    "    print(f\"\\nRecolectando imágenes para: {clase}\")\n",
    "    \n",
    "    respuesta = str(input(\"Ingresa 0 para cerrar, y cualquier tecla para empezar: \"))\n",
    "    if respuesta == \"0\": \n",
    "        print(\"-- Proceso terminado --\")\n",
    "        cap.release()\n",
    "        break\n",
    "        \n",
    "    print(\"\\n*Recoleccion EMPEZADA*\")\n",
    "    \n",
    "    for img_num in range(num_imgs):\n",
    "        print(img_num, end=\" \")\n",
    "        ret, frame = cap.read()\n",
    "        nom_img = os.path.join(IMAGENES_PATH, clase, clase + \".\" + f\"{str(uuid.uuid1())}.jpg\")\n",
    "        \n",
    "        cv.imwrite(nom_img, frame)\n",
    "        cv.imshow(\"frame\", frame)\n",
    "        time.sleep(0.5)\n",
    "    \n",
    "    print(\"\\n\\n*Recolección ACABADA*\\n\")\n",
    "\n",
    "    cap.release()"
   ]
  },
  {
   "cell_type": "markdown",
   "id": "14027c0e-593f-4f8b-9c75-5bcdcc781497",
   "metadata": {},
   "source": [
    "Etiquetar imágenes"
   ]
  },
  {
   "cell_type": "code",
   "execution_count": null,
   "id": "61dacfa8-11cf-452f-a89a-8f3022ce66e6",
   "metadata": {},
   "outputs": [],
   "source": [
    "mp_hands = mp.solutions.hands\n",
    "mp_drawing = mp.solutions.drawing_utils\n",
    "mp_drawing_styles = mp.solutions.drawing_styles\n",
    "\n",
    "hands = mp_hands.Hands(static_image_mode=True, min_detection_confidence=0.3)"
   ]
  },
  {
   "cell_type": "code",
   "execution_count": null,
   "id": "b35f177b-134a-444c-bdaa-745d185a9007",
   "metadata": {},
   "outputs": [],
   "source": [
    "sides = ['right', 'left']\n",
    "\n",
    "data = []\n",
    "labels = []\n",
    "\n",
    "for dir_ in os.listdir(IMAGENES_PATH):\n",
    "    for img_path in os.listdir(os.path.join(IMAGENES_PATH, dir_)):\n",
    "        \n",
    "        img = cv.imread(os.path.join(IMAGENES_PATH, dir_, img_path))\n",
    "        for side in sides:\n",
    "            \n",
    "            data_aux = []\n",
    "\n",
    "            x_ = []\n",
    "            y_ = []\n",
    "            \n",
    "            img_rgb = cv.cvtColor(img, cv.COLOR_BGR2RGB)\n",
    "    \n",
    "            results = hands.process(img_rgb)\n",
    "            if results.multi_hand_landmarks:\n",
    "                for hand_landmarks in results.multi_hand_landmarks:\n",
    "                    for i in range(len(hand_landmarks.landmark)):\n",
    "                        x = hand_landmarks.landmark[i].x\n",
    "                        y = hand_landmarks.landmark[i].y\n",
    "    \n",
    "                        x_.append(x)\n",
    "                        y_.append(y)\n",
    "    \n",
    "                    min_x = min(x_)\n",
    "                    min_y = min(y_)\n",
    "                    max_x = max(x_)\n",
    "                    max_y = max(y_)\n",
    "                    \n",
    "                    for i in range(len(hand_landmarks.landmark)):\n",
    "                        x = hand_landmarks.landmark[i].x\n",
    "                        y = hand_landmarks.landmark[i].y\n",
    "                        data_aux.append((x - min_x)/(max_x - min_x))\n",
    "                        data_aux.append((y - min_y)/(max_y - min_y))\n",
    "    \n",
    "                data.append(data_aux)\n",
    "                labels.append(dir_ + '_' + side)\n",
    "            \n",
    "            img = cv.flip(img, 1) # Flip image horizontally to identify the sign with the opposite hand"
   ]
  },
  {
   "cell_type": "code",
   "execution_count": null,
   "id": "79121de7-6e36-48d9-82c7-c81a7a996653",
   "metadata": {},
   "outputs": [],
   "source": [
    "f = open('data.pickle', 'wb')\n",
    "pickle.dump({'data': data, 'labels': labels}, f)\n",
    "f.close()"
   ]
  }
 ],
 "metadata": {
  "kernelspec": {
   "display_name": "Usr Python3",
   "language": "python",
   "name": "myenv"
  },
  "language_info": {
   "codemirror_mode": {
    "name": "ipython",
    "version": 3
   },
   "file_extension": ".py",
   "mimetype": "text/x-python",
   "name": "python",
   "nbconvert_exporter": "python",
   "pygments_lexer": "ipython3",
   "version": "3.11.7"
  }
 },
 "nbformat": 4,
 "nbformat_minor": 5
}
