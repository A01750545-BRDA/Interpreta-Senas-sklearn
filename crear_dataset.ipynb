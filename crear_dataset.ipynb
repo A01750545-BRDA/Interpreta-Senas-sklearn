{
 "cells": [
  {
   "cell_type": "markdown",
   "id": "80f9f9b0",
   "metadata": {},
   "source": [
    "Dependencias"
   ]
  },
  {
   "cell_type": "code",
   "execution_count": 9,
   "id": "e9f76da8-8468-44b4-a774-aea3dae80c50",
   "metadata": {},
   "outputs": [
    {
     "name": "stdout",
     "output_type": "stream",
     "text": [
      "Collecting mediapipe\n",
      "  Downloading mediapipe-0.10.9-cp311-cp311-macosx_11_0_x86_64.whl.metadata (9.6 kB)\n",
      "Requirement already satisfied: absl-py in /usr/local/lib/python3.11/site-packages (from mediapipe) (2.1.0)\n",
      "Requirement already satisfied: attrs>=19.1.0 in /usr/local/lib/python3.11/site-packages (from mediapipe) (23.2.0)\n",
      "Collecting flatbuffers>=2.0 (from mediapipe)\n",
      "  Using cached flatbuffers-23.5.26-py2.py3-none-any.whl.metadata (850 bytes)\n",
      "Requirement already satisfied: matplotlib in /usr/local/lib/python3.11/site-packages (from mediapipe) (3.8.2)\n",
      "Requirement already satisfied: numpy in /usr/local/lib/python3.11/site-packages (from mediapipe) (1.26.3)\n",
      "Collecting opencv-contrib-python (from mediapipe)\n",
      "  Downloading opencv_contrib_python-4.9.0.80-cp37-abi3-macosx_10_16_x86_64.whl.metadata (20 kB)\n",
      "Requirement already satisfied: protobuf<4,>=3.11 in /usr/local/lib/python3.11/site-packages (from mediapipe) (3.20.1)\n",
      "Collecting sounddevice>=0.4.4 (from mediapipe)\n",
      "  Downloading sounddevice-0.4.6-py3-none-macosx_10_6_x86_64.macosx_10_6_universal2.whl (107 kB)\n",
      "\u001b[2K     \u001b[90m━━━━━━━━━━━━━━━━━━━━━━━━━━━━━━━━━━━━━\u001b[0m \u001b[32m108.0/108.0 kB\u001b[0m \u001b[31m867.2 kB/s\u001b[0m eta \u001b[36m0:00:00\u001b[0ma \u001b[36m0:00:01\u001b[0m\n",
      "\u001b[?25hCollecting CFFI>=1.0 (from sounddevice>=0.4.4->mediapipe)\n",
      "  Downloading cffi-1.16.0-cp311-cp311-macosx_10_9_x86_64.whl.metadata (1.5 kB)\n",
      "Requirement already satisfied: contourpy>=1.0.1 in /usr/local/lib/python3.11/site-packages (from matplotlib->mediapipe) (1.2.0)\n",
      "Requirement already satisfied: cycler>=0.10 in /usr/local/lib/python3.11/site-packages (from matplotlib->mediapipe) (0.10.0)\n",
      "Requirement already satisfied: fonttools>=4.22.0 in /usr/local/lib/python3.11/site-packages (from matplotlib->mediapipe) (4.47.2)\n",
      "Requirement already satisfied: kiwisolver>=1.3.1 in /usr/local/lib/python3.11/site-packages (from matplotlib->mediapipe) (1.4.5)\n",
      "Requirement already satisfied: packaging>=20.0 in /usr/local/lib/python3.11/site-packages (from matplotlib->mediapipe) (23.2)\n",
      "Requirement already satisfied: pillow>=8 in /usr/local/lib/python3.11/site-packages (from matplotlib->mediapipe) (10.2.0)\n",
      "Requirement already satisfied: pyparsing>=2.3.1 in /usr/local/lib/python3.11/site-packages (from matplotlib->mediapipe) (2.4.7)\n",
      "Requirement already satisfied: python-dateutil>=2.7 in /usr/local/lib/python3.11/site-packages (from matplotlib->mediapipe) (2.8.2)\n",
      "Collecting pycparser (from CFFI>=1.0->sounddevice>=0.4.4->mediapipe)\n",
      "  Downloading pycparser-2.21-py2.py3-none-any.whl (118 kB)\n",
      "\u001b[2K     \u001b[90m━━━━━━━━━━━━━━━━━━━━━━━━━━━━━━━━━━━━━━━\u001b[0m \u001b[32m118.7/118.7 kB\u001b[0m \u001b[31m1.7 MB/s\u001b[0m eta \u001b[36m0:00:00\u001b[0ma \u001b[36m0:00:01\u001b[0m\n",
      "\u001b[?25hRequirement already satisfied: six in /usr/local/lib/python3.11/site-packages (from cycler>=0.10->matplotlib->mediapipe) (1.16.0)\n",
      "Downloading mediapipe-0.10.9-cp311-cp311-macosx_11_0_x86_64.whl (47.1 MB)\n",
      "\u001b[2K   \u001b[90m━━━━━━━━━━━━━━━━━━━━━━━━━━━━━━━━━━━━━━━━\u001b[0m \u001b[32m47.1/47.1 MB\u001b[0m \u001b[31m7.1 MB/s\u001b[0m eta \u001b[36m0:00:00\u001b[0m00:01\u001b[0m00:01\u001b[0mm\n",
      "\u001b[?25hDownloading flatbuffers-23.5.26-py2.py3-none-any.whl (26 kB)\n",
      "Downloading opencv_contrib_python-4.9.0.80-cp37-abi3-macosx_10_16_x86_64.whl (65.4 MB)\n",
      "\u001b[2K   \u001b[90m━━━━━━━━━━━━━━━━━━━━━━━━━━━━━━━━━━━━━━━━\u001b[0m \u001b[32m65.4/65.4 MB\u001b[0m \u001b[31m7.6 MB/s\u001b[0m eta \u001b[36m0:00:00\u001b[0m:00:01\u001b[0m00:01\u001b[0m\n",
      "\u001b[?25hDownloading cffi-1.16.0-cp311-cp311-macosx_10_9_x86_64.whl (182 kB)\n",
      "\u001b[2K   \u001b[90m━━━━━━━━━━━━━━━━━━━━━━━━━━━━━━━━━━━━━━━━\u001b[0m \u001b[32m182.4/182.4 kB\u001b[0m \u001b[31m1.8 MB/s\u001b[0m eta \u001b[36m0:00:00\u001b[0mta \u001b[36m0:00:01\u001b[0m\n",
      "\u001b[?25hInstalling collected packages: flatbuffers, pycparser, opencv-contrib-python, CFFI, sounddevice, mediapipe\n",
      "Successfully installed CFFI-1.16.0 flatbuffers-23.5.26 mediapipe-0.10.9 opencv-contrib-python-4.9.0.80 pycparser-2.21 sounddevice-0.4.6\n"
     ]
    }
   ],
   "source": [
    "!pip install mediapipe"
   ]
  },
  {
   "cell_type": "code",
   "execution_count": 10,
   "id": "c26f029d-27da-4688-afdc-f77e6449e74b",
   "metadata": {},
   "outputs": [],
   "source": [
    "import cv2 as cv\n",
    "import os\n",
    "import pickle\n",
    "import time\n",
    "import uuid\n",
    "import mediapipe as mp"
   ]
  },
  {
   "cell_type": "markdown",
   "id": "be6c583b",
   "metadata": {},
   "source": [
    "Definir clases e imagenes"
   ]
  },
  {
   "cell_type": "code",
   "execution_count": 2,
   "id": "0f9b3558-d27e-4ca3-93aa-3cfb53d40baa",
   "metadata": {},
   "outputs": [],
   "source": [
    "IMAGENES_PATH = \"imagenes/recopiladas\""
   ]
  },
  {
   "cell_type": "code",
   "execution_count": 3,
   "id": "ebb1ccdc-3da8-4ae7-84b3-5bfd5b5e5edb",
   "metadata": {},
   "outputs": [],
   "source": [
    "clases = [\"a\", \"b\", \"c\", \"d\", \"e\", \"f\", \"g\", \"h\", \"i\", \"l\", \"m\", \"n\", \"o\", \"p\", \"r\", \"s\", \"t\", \"u\", \"v\", \"w\", \"y\"]\n",
    "num_imgs = 15"
   ]
  },
  {
   "cell_type": "markdown",
   "id": "40c605a7",
   "metadata": {},
   "source": [
    "Crear imagenes para base de datos"
   ]
  },
  {
   "cell_type": "code",
   "execution_count": 7,
   "id": "82d90f17-64a2-4e29-9325-3c2fd626cf49",
   "metadata": {},
   "outputs": [
    {
     "name": "stdout",
     "output_type": "stream",
     "text": [
      "\n",
      "Recolectando imágenes para: a\n"
     ]
    },
    {
     "name": "stdout",
     "output_type": "stream",
     "text": [
      "Ingresa 0 para cerrar, y cualquier tecla para empezar:  s\n"
     ]
    },
    {
     "name": "stdout",
     "output_type": "stream",
     "text": [
      "\n",
      "*Recoleccion EMPEZADA*\n",
      "0 1 2 3 4 5 6 7 8 9 10 11 12 13 14 \n",
      "\n",
      "*Recolección ACABADA*\n",
      "\n",
      "\n",
      "Recolectando imágenes para: b\n"
     ]
    },
    {
     "name": "stdout",
     "output_type": "stream",
     "text": [
      "Ingresa 0 para cerrar, y cualquier tecla para empezar:  a\n"
     ]
    },
    {
     "name": "stdout",
     "output_type": "stream",
     "text": [
      "\n",
      "*Recoleccion EMPEZADA*\n",
      "0 1 2 3 4 5 6 7 8 9 10 11 12 13 14 \n",
      "\n",
      "*Recolección ACABADA*\n",
      "\n",
      "\n",
      "Recolectando imágenes para: c\n"
     ]
    },
    {
     "name": "stdout",
     "output_type": "stream",
     "text": [
      "Ingresa 0 para cerrar, y cualquier tecla para empezar:  s\n"
     ]
    },
    {
     "name": "stdout",
     "output_type": "stream",
     "text": [
      "\n",
      "*Recoleccion EMPEZADA*\n",
      "0 1 2 3 4 5 6 7 8 9 10 11 12 13 14 \n",
      "\n",
      "*Recolección ACABADA*\n",
      "\n",
      "\n",
      "Recolectando imágenes para: d\n"
     ]
    },
    {
     "name": "stdout",
     "output_type": "stream",
     "text": [
      "Ingresa 0 para cerrar, y cualquier tecla para empezar:  s\n"
     ]
    },
    {
     "name": "stdout",
     "output_type": "stream",
     "text": [
      "\n",
      "*Recoleccion EMPEZADA*\n",
      "0 1 2 3 4 5 6 7 8 9 10 11 12 13 14 \n",
      "\n",
      "*Recolección ACABADA*\n",
      "\n",
      "\n",
      "Recolectando imágenes para: e\n"
     ]
    },
    {
     "name": "stdout",
     "output_type": "stream",
     "text": [
      "Ingresa 0 para cerrar, y cualquier tecla para empezar:  s\n"
     ]
    },
    {
     "name": "stdout",
     "output_type": "stream",
     "text": [
      "\n",
      "*Recoleccion EMPEZADA*\n",
      "0 1 2 3 4 5 6 7 8 9 10 11 12 13 14 \n",
      "\n",
      "*Recolección ACABADA*\n",
      "\n",
      "\n",
      "Recolectando imágenes para: f\n"
     ]
    },
    {
     "name": "stdout",
     "output_type": "stream",
     "text": [
      "Ingresa 0 para cerrar, y cualquier tecla para empezar:  s\n"
     ]
    },
    {
     "name": "stdout",
     "output_type": "stream",
     "text": [
      "\n",
      "*Recoleccion EMPEZADA*\n",
      "0 1 2 3 4 5 6 7 8 9 10 11 12 13 14 \n",
      "\n",
      "*Recolección ACABADA*\n",
      "\n",
      "\n",
      "Recolectando imágenes para: g\n"
     ]
    },
    {
     "name": "stdout",
     "output_type": "stream",
     "text": [
      "Ingresa 0 para cerrar, y cualquier tecla para empezar:  s\n"
     ]
    },
    {
     "name": "stdout",
     "output_type": "stream",
     "text": [
      "\n",
      "*Recoleccion EMPEZADA*\n",
      "0 1 2 3 4 5 6 7 8 9 10 11 12 13 14 \n",
      "\n",
      "*Recolección ACABADA*\n",
      "\n",
      "\n",
      "Recolectando imágenes para: h\n"
     ]
    },
    {
     "name": "stdout",
     "output_type": "stream",
     "text": [
      "Ingresa 0 para cerrar, y cualquier tecla para empezar:  s\n"
     ]
    },
    {
     "name": "stdout",
     "output_type": "stream",
     "text": [
      "\n",
      "*Recoleccion EMPEZADA*\n",
      "0 1 2 3 4 5 6 7 8 9 10 11 12 13 14 \n",
      "\n",
      "*Recolección ACABADA*\n",
      "\n",
      "\n",
      "Recolectando imágenes para: i\n"
     ]
    },
    {
     "name": "stdout",
     "output_type": "stream",
     "text": [
      "Ingresa 0 para cerrar, y cualquier tecla para empezar:  s\n"
     ]
    },
    {
     "name": "stdout",
     "output_type": "stream",
     "text": [
      "\n",
      "*Recoleccion EMPEZADA*\n",
      "0 1 2 3 4 5 6 7 8 9 10 11 12 13 14 \n",
      "\n",
      "*Recolección ACABADA*\n",
      "\n",
      "\n",
      "Recolectando imágenes para: l\n"
     ]
    },
    {
     "name": "stdout",
     "output_type": "stream",
     "text": [
      "Ingresa 0 para cerrar, y cualquier tecla para empezar:  s\n"
     ]
    },
    {
     "name": "stdout",
     "output_type": "stream",
     "text": [
      "\n",
      "*Recoleccion EMPEZADA*\n",
      "0 1 2 3 4 5 6 7 8 9 10 11 12 13 14 \n",
      "\n",
      "*Recolección ACABADA*\n",
      "\n",
      "\n",
      "Recolectando imágenes para: m\n"
     ]
    },
    {
     "name": "stdout",
     "output_type": "stream",
     "text": [
      "Ingresa 0 para cerrar, y cualquier tecla para empezar:  s\n"
     ]
    },
    {
     "name": "stdout",
     "output_type": "stream",
     "text": [
      "\n",
      "*Recoleccion EMPEZADA*\n",
      "0 1 2 3 4 5 6 7 8 9 10 11 12 13 14 \n",
      "\n",
      "*Recolección ACABADA*\n",
      "\n",
      "\n",
      "Recolectando imágenes para: n\n"
     ]
    },
    {
     "name": "stdout",
     "output_type": "stream",
     "text": [
      "Ingresa 0 para cerrar, y cualquier tecla para empezar:  s\n"
     ]
    },
    {
     "name": "stdout",
     "output_type": "stream",
     "text": [
      "\n",
      "*Recoleccion EMPEZADA*\n",
      "0 1 2 3 4 5 6 7 8 9 10 11 12 13 14 \n",
      "\n",
      "*Recolección ACABADA*\n",
      "\n",
      "\n",
      "Recolectando imágenes para: o\n"
     ]
    },
    {
     "name": "stdout",
     "output_type": "stream",
     "text": [
      "Ingresa 0 para cerrar, y cualquier tecla para empezar:  s\n"
     ]
    },
    {
     "name": "stdout",
     "output_type": "stream",
     "text": [
      "\n",
      "*Recoleccion EMPEZADA*\n",
      "0 1 2 3 4 5 6 7 8 9 10 11 12 13 14 \n",
      "\n",
      "*Recolección ACABADA*\n",
      "\n",
      "\n",
      "Recolectando imágenes para: p\n"
     ]
    },
    {
     "name": "stdout",
     "output_type": "stream",
     "text": [
      "Ingresa 0 para cerrar, y cualquier tecla para empezar:  s\n"
     ]
    },
    {
     "name": "stdout",
     "output_type": "stream",
     "text": [
      "\n",
      "*Recoleccion EMPEZADA*\n",
      "0 1 2 3 4 5 6 7 8 9 10 11 12 13 14 \n",
      "\n",
      "*Recolección ACABADA*\n",
      "\n",
      "\n",
      "Recolectando imágenes para: r\n"
     ]
    },
    {
     "name": "stdout",
     "output_type": "stream",
     "text": [
      "Ingresa 0 para cerrar, y cualquier tecla para empezar:  s\n"
     ]
    },
    {
     "name": "stdout",
     "output_type": "stream",
     "text": [
      "\n",
      "*Recoleccion EMPEZADA*\n",
      "0 1 2 3 4 5 6 7 8 9 10 11 12 13 14 \n",
      "\n",
      "*Recolección ACABADA*\n",
      "\n",
      "\n",
      "Recolectando imágenes para: s\n"
     ]
    },
    {
     "name": "stdout",
     "output_type": "stream",
     "text": [
      "Ingresa 0 para cerrar, y cualquier tecla para empezar:  s\n"
     ]
    },
    {
     "name": "stdout",
     "output_type": "stream",
     "text": [
      "\n",
      "*Recoleccion EMPEZADA*\n",
      "0 1 2 3 4 5 6 7 8 9 10 11 12 13 14 \n",
      "\n",
      "*Recolección ACABADA*\n",
      "\n",
      "\n",
      "Recolectando imágenes para: t\n"
     ]
    },
    {
     "name": "stdout",
     "output_type": "stream",
     "text": [
      "Ingresa 0 para cerrar, y cualquier tecla para empezar:  s\n"
     ]
    },
    {
     "name": "stdout",
     "output_type": "stream",
     "text": [
      "\n",
      "*Recoleccion EMPEZADA*\n",
      "0 1 2 3 4 5 6 7 8 9 10 11 12 13 14 \n",
      "\n",
      "*Recolección ACABADA*\n",
      "\n",
      "\n",
      "Recolectando imágenes para: u\n"
     ]
    },
    {
     "name": "stdout",
     "output_type": "stream",
     "text": [
      "Ingresa 0 para cerrar, y cualquier tecla para empezar:  s\n"
     ]
    },
    {
     "name": "stdout",
     "output_type": "stream",
     "text": [
      "\n",
      "*Recoleccion EMPEZADA*\n",
      "0 1 2 3 4 5 6 7 8 9 10 11 12 13 14 \n",
      "\n",
      "*Recolección ACABADA*\n",
      "\n",
      "\n",
      "Recolectando imágenes para: v\n"
     ]
    },
    {
     "name": "stdout",
     "output_type": "stream",
     "text": [
      "Ingresa 0 para cerrar, y cualquier tecla para empezar:  s\n"
     ]
    },
    {
     "name": "stdout",
     "output_type": "stream",
     "text": [
      "\n",
      "*Recoleccion EMPEZADA*\n",
      "0 1 2 3 4 5 6 7 8 9 10 11 12 13 14 \n",
      "\n",
      "*Recolección ACABADA*\n",
      "\n",
      "\n",
      "Recolectando imágenes para: w\n"
     ]
    },
    {
     "name": "stdout",
     "output_type": "stream",
     "text": [
      "Ingresa 0 para cerrar, y cualquier tecla para empezar:  s\n"
     ]
    },
    {
     "name": "stdout",
     "output_type": "stream",
     "text": [
      "\n",
      "*Recoleccion EMPEZADA*\n",
      "0 1 2 3 4 5 6 7 8 9 10 11 12 13 14 \n",
      "\n",
      "*Recolección ACABADA*\n",
      "\n",
      "\n",
      "Recolectando imágenes para: y\n"
     ]
    },
    {
     "name": "stdout",
     "output_type": "stream",
     "text": [
      "Ingresa 0 para cerrar, y cualquier tecla para empezar:  s\n"
     ]
    },
    {
     "name": "stdout",
     "output_type": "stream",
     "text": [
      "\n",
      "*Recoleccion EMPEZADA*\n",
      "0 1 2 3 4 5 6 7 8 9 10 11 12 13 14 \n",
      "\n",
      "*Recolección ACABADA*\n",
      "\n"
     ]
    }
   ],
   "source": [
    "for clase in clases:\n",
    "    os.system(f\"mkdir -p {IMAGENES_PATH}/{clase}\")\n",
    "    cap = cv.VideoCapture(0)\n",
    "    \n",
    "    if not cap.isOpened():\n",
    "        print(\"-- Camara no se pudo abrir --\")\n",
    "        break\n",
    "    \n",
    "    print(f\"\\nRecolectando imágenes para: {clase}\")\n",
    "    \n",
    "    respuesta = str(input(\"Ingresa 0 para cerrar, y cualquier tecla para empezar: \"))\n",
    "    if respuesta == \"0\": \n",
    "        print(\"-- Proceso terminado --\")\n",
    "        cap.release()\n",
    "        break\n",
    "        \n",
    "    print(\"\\n*Recoleccion EMPEZADA*\")\n",
    "    \n",
    "    for img_num in range(num_imgs):\n",
    "        print(img_num, end=\" \")\n",
    "        ret, frame = cap.read()\n",
    "        nom_img = os.path.join(IMAGENES_PATH, clase, clase + \".\" + f\"{str(uuid.uuid1())}.jpg\")\n",
    "        \n",
    "        cv.imwrite(nom_img, frame)\n",
    "        cv.imshow(\"frame\", frame)\n",
    "        time.sleep(0.5)\n",
    "    \n",
    "    print(\"\\n\\n*Recolección ACABADA*\\n\")\n",
    "\n",
    "    cap.release()"
   ]
  },
  {
   "cell_type": "markdown",
   "id": "14027c0e-593f-4f8b-9c75-5bcdcc781497",
   "metadata": {},
   "source": [
    "Etiquetar imágenes"
   ]
  },
  {
   "cell_type": "code",
   "execution_count": 11,
   "id": "61dacfa8-11cf-452f-a89a-8f3022ce66e6",
   "metadata": {},
   "outputs": [
    {
     "name": "stderr",
     "output_type": "stream",
     "text": [
      "WARNING: All log messages before absl::InitializeLog() is called are written to STDERR\n",
      "I0000 00:00:1707313379.101716       1 gl_context.cc:344] GL version: 2.1 (2.1 INTEL-18.8.4), renderer: Intel(R) HD Graphics 6000\n",
      "INFO: Created TensorFlow Lite XNNPACK delegate for CPU.\n"
     ]
    }
   ],
   "source": [
    "mp_hands = mp.solutions.hands\n",
    "mp_drawing = mp.solutions.drawing_utils\n",
    "mp_drawing_styles = mp.solutions.drawing_styles\n",
    "\n",
    "hands = mp_hands.Hands(static_image_mode=True, min_detection_confidence=0.3)"
   ]
  },
  {
   "cell_type": "code",
   "execution_count": 19,
   "id": "b35f177b-134a-444c-bdaa-745d185a9007",
   "metadata": {},
   "outputs": [],
   "source": [
    "data = []\n",
    "labels = []\n",
    "for dir_ in os.listdir(IMAGENES_PATH):\n",
    "    for img_path in os.listdir(os.path.join(IMAGENES_PATH, dir_)):\n",
    "        data_aux = []\n",
    "\n",
    "        x_ = []\n",
    "        y_ = []\n",
    "\n",
    "        img = cv.imread(os.path.join(IMAGENES_PATH, dir_, img_path))\n",
    "        img_rgb = cv.cvtColor(img, cv.COLOR_BGR2RGB)\n",
    "\n",
    "        results = hands.process(img_rgb)\n",
    "        if results.multi_hand_landmarks:\n",
    "            for hand_landmarks in results.multi_hand_landmarks:\n",
    "                for i in range(len(hand_landmarks.landmark)):\n",
    "                    x = hand_landmarks.landmark[i].x\n",
    "                    y = hand_landmarks.landmark[i].y\n",
    "\n",
    "                    x_.append(x)\n",
    "                    y_.append(y)\n",
    "\n",
    "                for i in range(len(hand_landmarks.landmark)):\n",
    "                    x = hand_landmarks.landmark[i].x\n",
    "                    y = hand_landmarks.landmark[i].y\n",
    "                    data_aux.append(x - min(x_))\n",
    "                    data_aux.append(y - min(y_))\n",
    "\n",
    "            data.append(data_aux)\n",
    "            labels.append(dir_)"
   ]
  },
  {
   "cell_type": "code",
   "execution_count": 20,
   "id": "79121de7-6e36-48d9-82c7-c81a7a996653",
   "metadata": {},
   "outputs": [],
   "source": [
    "f = open('data.pickle', 'wb')\n",
    "pickle.dump({'data': data, 'labels': labels}, f)\n",
    "f.close()"
   ]
  }
 ],
 "metadata": {
  "kernelspec": {
   "display_name": "Usr Python3",
   "language": "python",
   "name": "myenv"
  },
  "language_info": {
   "codemirror_mode": {
    "name": "ipython",
    "version": 3
   },
   "file_extension": ".py",
   "mimetype": "text/x-python",
   "name": "python",
   "nbconvert_exporter": "python",
   "pygments_lexer": "ipython3",
   "version": "3.11.7"
  }
 },
 "nbformat": 4,
 "nbformat_minor": 5
}
